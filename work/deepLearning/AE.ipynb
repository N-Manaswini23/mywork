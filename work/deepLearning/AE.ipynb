{
 "cells": [
  {
   "cell_type": "code",
   "execution_count": 29,
   "metadata": {},
   "outputs": [],
   "source": [
    "import torch\n",
    "import numpy as np\n",
    "import torch.nn as nn\n",
    "import torch.optim as optim\n",
    "import torchvision.datasets as datasets\n",
    "import torchvision.transforms as transforms\n",
    "from torchvision.utils import save_image\n",
    "import matplotlib.pyplot as plt\n",
    "from PIL import Image"
   ]
  },
  {
   "cell_type": "code",
   "execution_count": 30,
   "metadata": {},
   "outputs": [],
   "source": [
    "class AE(nn.Module):\n",
    "    def __init__(self,input_dimension,hidden_dimension):\n",
    "        super().__init__()\n",
    "        self.input_dimension=input_dimension\n",
    "        self.hidden_dimension=hidden_dimension\n",
    "\n",
    "        # Define the encoder network\n",
    "        self.encoder = nn.Sequential(\n",
    "            nn.Linear(self.input_dimension, 128),\n",
    "            nn.ReLU(),\n",
    "            nn.Linear(128, self.hidden_dimension),\n",
    "            nn.ReLU(),\n",
    "        )\n",
    "\n",
    "        # Define the decoder network\n",
    "        self.decoder = nn.Sequential(\n",
    "            nn.Linear(self.hidden_dimension, 128),\n",
    "            nn.ReLU(),\n",
    "            nn.Linear(128, self.input_dimension),\n",
    "            nn.Sigmoid(),\n",
    "        )\n",
    "\n",
    "    def forward(self, x):\n",
    "        # Encode the input\n",
    "\n",
    "        encoded_x = self.encoder(x)\n",
    "\n",
    "        # Decode the latent space\n",
    "        x_recon = self.decoder(encoded_x)\n",
    "\n",
    "        return x_recon\n"
   ]
  },
  {
   "cell_type": "code",
   "execution_count": 31,
   "metadata": {},
   "outputs": [],
   "source": [
    "device = torch.device('cuda' if torch.cuda.is_available() else 'cpu')\n",
    "input_dimension = 784\n",
    "epochs = 10\n",
    "batch_size=20"
   ]
  },
  {
   "cell_type": "code",
   "execution_count": 32,
   "metadata": {},
   "outputs": [],
   "source": [
    "# Load the MNIST dataset\n",
    "train_dataset = datasets.MNIST(root='./data', train=True, transform=transforms.ToTensor(), download=True)\n",
    "test_dataset = datasets.MNIST(root='./data', train=False, transform=transforms.ToTensor(), download=True)\n",
    "\n",
    "train_loader = torch.utils.data.DataLoader(train_dataset, batch_size=batch_size, shuffle=True)\n",
    "test_loader = torch.utils.data.DataLoader(test_dataset, batch_size=batch_size, shuffle=True)\n"
   ]
  },
  {
   "cell_type": "code",
   "execution_count": 33,
   "metadata": {},
   "outputs": [],
   "source": [
    "# Define test function\n",
    "\n",
    "def train_ae(epochs, ae_model, optimizer):\n",
    "    # outputs = []\n",
    "    # losses = []\n",
    "    # Start training\n",
    "    loss_list=[]\n",
    "    for epoch in range(epochs):\n",
    "        train_loss=0\n",
    "        for (x, _) in train_loader:\n",
    "            # Forward pass\n",
    "            x = x.to(device).view(-1, input_dimension)\n",
    "            x_recon = ae_model(x)\n",
    "\n",
    "            # Compute the loss\n",
    "            loss_function = torch.nn.MSELoss()\n",
    "            loss = loss_function(x_recon,x)\n",
    "            # Backward pass and optimization\n",
    "            optimizer.zero_grad()\n",
    "            loss.backward()\n",
    "            optimizer.step()\n",
    "            # Storing the losses in a list for plotting\n",
    "            train_loss+=loss.item()\n",
    "            # losses.append(loss)\n",
    "            # outputs.append((epochs, x, x_recon))\n",
    "            # Print the loss\n",
    "        loss_list.append(train_loss)\n",
    "        print(\"Epoch [{}/{}], Train Loss: {:.4f}\".format(epoch+1, epochs, train_loss))\n",
    "    plt.xlabel('Iterations')\n",
    "    plt.ylabel('Loss')\n",
    "    plt.plot(loss_list)\n",
    "    plt.show()"
   ]
  },
  {
   "cell_type": "code",
   "execution_count": 34,
   "metadata": {},
   "outputs": [],
   "source": [
    "# Define test function\n",
    "\n",
    "def test_ae(epochs, ae_model):\n",
    "    # outputs = []\n",
    "    # losses = []\n",
    "    # Start training\n",
    "    loss_list=[]\n",
    "    for epoch in range(epochs):\n",
    "        test_loss=0\n",
    "        for (x, _) in test_loader:\n",
    "            # Forward pass\n",
    "            x = x.to(device).view(-1, input_dimension)\n",
    "            x_recon = ae_model(x)\n",
    "\n",
    "            # Compute the loss\n",
    "            loss_function = torch.nn.MSELoss()\n",
    "            loss = loss_function(x_recon,x) \n",
    "            test_loss+=loss.item()\n",
    "            # losses.append(loss)\n",
    "            # outputs.append((epochs, x, x_recon))\n",
    "            # Print the loss\n",
    "        loss_list.append(test_loss)\n",
    "        print(\"Epoch [{}/{}], Test Loss: {:.4f}\".format(epoch+1, epochs, test_loss))\n",
    "    plt.xlabel('Iterations')\n",
    "    plt.ylabel('Loss')\n",
    "    plt.plot(loss_list)\n",
    "    plt.show()"
   ]
  },
  {
   "cell_type": "code",
   "execution_count": 35,
   "metadata": {},
   "outputs": [
    {
     "name": "stdout",
     "output_type": "stream",
     "text": [
      "Epoch [1/10], Train Loss: 344.4968\n",
      "Epoch [2/10], Train Loss: 172.1888\n",
      "Epoch [3/10], Train Loss: 114.7925\n",
      "Epoch [4/10], Train Loss: 86.0944\n",
      "Epoch [5/10], Train Loss: 68.8755\n",
      "Epoch [6/10], Train Loss: 57.3963\n",
      "Epoch [7/10], Train Loss: 49.1968\n",
      "Epoch [8/10], Train Loss: 43.0472\n",
      "Epoch [9/10], Train Loss: 38.2642\n",
      "Epoch [10/10], Train Loss: 34.4378\n",
      "\n",
      "\n",
      "\n",
      "------------------------------------------------------------\n",
      "\n",
      "\n",
      "\n",
      "Epoch [1/10], Test Loss: 57.7913\n",
      "Epoch [2/10], Test Loss: 28.8956\n",
      "Epoch [3/10], Test Loss: 19.2638\n",
      "Epoch [4/10], Test Loss: 14.4478\n",
      "Epoch [5/10], Test Loss: 11.5583\n",
      "Epoch [6/10], Test Loss: 9.6319\n",
      "Epoch [7/10], Test Loss: 8.2559\n",
      "Epoch [8/10], Test Loss: 7.2239\n",
      "Epoch [9/10], Test Loss: 6.4213\n",
      "Epoch [10/10], Test Loss: 5.7791\n"
     ]
    },
    {
     "data": {
      "image/png": "[encoded data removed]",
      "text/plain": [
       "<Figure size 432x288 with 1 Axes>"
      ]
     },
     "metadata": {
      "needs_background": "light"
     },
     "output_type": "display_data"
    }
   ],
   "source": [
    "# Initialize Model \n",
    "hidden_dimension = 32\n",
    "\n",
    "ae = AE(input_dimension,hidden_dimension)\n",
    "#MSE Loss function\n",
    "optimizer = torch.optim.Adam(ae.parameters(),lr = 0.1)\n",
    "train_ae(epochs,ae,optimizer)\n",
    "print('\\n\\n\\n------------------------------------------------------------\\n\\n\\n')\n",
    "test_ae(epochs,ae)"
   ]
  },
  {
   "cell_type": "code",
   "execution_count": 36,
   "metadata": {},
   "outputs": [
    {
     "data": {
      "image/png": "[encoded data removed]",
      "text/plain": [
       "<Figure size 1800x288 with 20 Axes>"
      ]
     },
     "metadata": {
      "needs_background": "light"
     },
     "output_type": "display_data"
    }
   ],
   "source": [
    "# obtain one batch of test imgs\n",
    "dataiter = iter(test_loader)\n",
    "imgs, labels =next(dataiter)\n",
    "\n",
    "input = imgs.view(imgs.size(0), -1)\n",
    "output = ae(input)\n",
    "imgs = imgs.numpy()\n",
    "output = output.view(batch_size, 1, 28, 28)\n",
    "output = output.detach().numpy()\n",
    "fig, axes = plt.subplots(nrows=2, ncols=10, sharex=True, sharey=True, figsize=(25,4))\n",
    "\n",
    "# input imgs on top row, reconstructions on bottom\n",
    "for ims, row in zip([imgs, output], axes):\n",
    "    for img, ax in zip(imgs, row):\n",
    "        ax.imshow(np.squeeze(img), cmap='gray')\n",
    "        ax.get_xaxis().set_visible(False)\n",
    "        ax.get_yaxis().set_visible(False)"
   ]
  },
  {
   "cell_type": "code",
   "execution_count": 37,
   "metadata": {},
   "outputs": [
    {
     "name": "stdout",
     "output_type": "stream",
     "text": [
      "Epoch [1/10], Train Loss: 345.6010\n",
      "Epoch [2/10], Train Loss: 172.7360\n",
      "Epoch [3/10], Train Loss: 115.1573\n",
      "Epoch [4/10], Train Loss: 86.3680\n"
     ]
    }
   ],
   "source": [
    "# Initialize Model \n",
    "hidden_dimension = 64\n",
    "\n",
    "ae = AE(input_dimension,hidden_dimension)\n",
    "#MSE Loss function\n",
    "optimizer = torch.optim.Adam(ae.parameters(),lr = 0.1)\n",
    "train_ae(epochs,ae,optimizer)\n",
    "print('\\n\\n\\n------------------------------------------------------------\\n\\n\\n')\n",
    "test_ae(epochs,ae)"
   ]
  },
  {
   "cell_type": "code",
   "execution_count": null,
   "metadata": {},
   "outputs": [
    {
     "data": {
      "image/png": "[encoded data removed]",
      "text/plain": [
       "<Figure size 1800x288 with 20 Axes>"
      ]
     },
     "metadata": {
      "needs_background": "light"
     },
     "output_type": "display_data"
    }
   ],
   "source": [
    "\n",
    "# obtain one batch of test imgs\n",
    "dataiter = iter(test_loader)\n",
    "imgs, labels = next(dataiter)\n",
    "\n",
    "input = imgs.view(imgs.size(0), -1)\n",
    "output = ae(input)\n",
    "imgs = imgs.numpy()\n",
    "output = output.view(batch_size, 1, 28, 28)\n",
    "output = output.detach().numpy()\n",
    "\n",
    "fig, axes = plt.subplots(nrows=2, ncols=10, sharex=True, sharey=True, figsize=(25,4))\n",
    "for imgs, row in zip([imgs, output], axes):\n",
    "    for img, ax in zip(imgs, row):\n",
    "        ax.imshow(np.squeeze(img), cmap='gray')\n",
    "        ax.get_xaxis().set_visible(False)\n",
    "        ax.get_yaxis().set_visible(False)"
   ]
  }
 ],
 "metadata": {
  "kernelspec": {
   "display_name": "Python 3",
   "language": "python",
   "name": "python3"
  },
  "language_info": {
   "codemirror_mode": {
    "name": "ipython",
    "version": 3
   },
   "file_extension": ".py",
   "mimetype": "text/x-python",
   "name": "python",
   "nbconvert_exporter": "python",
   "pygments_lexer": "ipython3",
   "version": "3.10.6"
  },
  "orig_nbformat": 4
 },
 "nbformat": 4,
 "nbformat_minor": 2
}
