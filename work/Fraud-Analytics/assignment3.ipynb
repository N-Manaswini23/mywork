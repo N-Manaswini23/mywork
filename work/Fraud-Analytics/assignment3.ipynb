{
 "cells": [
  {
   "cell_type": "code",
   "execution_count": 1,
   "metadata": {},
   "outputs": [],
   "source": [
    "import numpy as np\n",
    "import matplotlib.pyplot as plt\n",
    "import pandas as pd\n",
    "from sklearn.cluster import KMeans\n",
    "from sklearn.preprocessing import normalize"
   ]
  },
  {
   "attachments": {},
   "cell_type": "markdown",
   "metadata": {},
   "source": [
    "**DATA PREPROCESSING:**"
   ]
  },
  {
   "cell_type": "code",
   "execution_count": 2,
   "metadata": {},
   "outputs": [
    {
     "name": "stdout",
     "output_type": "stream",
     "text": [
      "              cov1         cov2         cov3         cov4         cov5  \\\n",
      "count  1199.000000  1199.000000  1199.000000  1199.000000  1199.000000   \n",
      "mean      0.956896     0.855770     0.214263     0.147359     0.036329   \n",
      "std       0.135031     0.244927     0.408193     0.388080     0.177615   \n",
      "min      -0.312219    -0.531958    -0.818128    -0.839158    -0.719622   \n",
      "25%       0.982505     0.840675    -0.095193    -0.143054     0.000000   \n",
      "50%       0.999235     0.969806     0.175910     0.097584     0.000000   \n",
      "75%       0.999993     0.996604     0.563061     0.457633     0.000000   \n",
      "max       1.000000     1.000000     1.000000     0.979015     0.999196   \n",
      "\n",
      "              cov6         cov7   sal_pur_rat  igst_itc_tot_itc_rat  \\\n",
      "count  1199.000000  1199.000000  1.199000e+03          1.199000e+03   \n",
      "mean      0.599809     0.527768 -1.251042e-11         -5.004165e-12   \n",
      "std       0.334306     0.385322  1.000000e+00          1.000000e+00   \n",
      "min      -0.682734    -0.859529 -3.531330e-02         -1.066436e+00   \n",
      "25%       0.382479     0.245701 -3.284146e-02         -8.884636e-01   \n",
      "50%       0.691423     0.595623 -3.254101e-02         -3.457085e-01   \n",
      "75%       0.873218     0.869592 -3.194269e-02          7.059485e-01   \n",
      "max       0.999999     1.000000  3.436719e+01          2.177948e+00   \n",
      "\n",
      "       lib_igst_itc_rat  \n",
      "count      1.199000e+03  \n",
      "mean       1.918265e-11  \n",
      "std        1.000000e+00  \n",
      "min       -5.444774e-02  \n",
      "25%       -5.424427e-02  \n",
      "50%       -5.382146e-02  \n",
      "75%       -5.191380e-02  \n",
      "max        3.318828e+01  \n"
     ]
    }
   ],
   "source": [
    "loaded_data=pd.read_csv(\"data.csv\")\n",
    "print(loaded_data.describe())\n",
    "loaded_data=loaded_data.to_numpy()"
   ]
  },
  {
   "attachments": {},
   "cell_type": "markdown",
   "metadata": {},
   "source": [
    "**DECOMPOSITION**"
   ]
  },
  {
   "cell_type": "code",
   "execution_count": 3,
   "metadata": {},
   "outputs": [],
   "source": [
    "#calculates gaussian similaruty matrix\n",
    "def gaussian_similarity_matrix(X, sigma):\n",
    "    distance_matrix = np.zeros((X.shape[0], X.shape[0]))\n",
    "    for i in range(X.shape[0]):\n",
    "        for j in range(X.shape[0]):\n",
    "            distance_matrix[i,j] = np.linalg.norm(X[i] - X[j])\n",
    "    similarity_matrix = np.exp(-distance_matrix**2 / (2*sigma**2))\n",
    "    return similarity_matrix"
   ]
  },
  {
   "cell_type": "code",
   "execution_count": 4,
   "metadata": {},
   "outputs": [],
   "source": [
    "#calculates laplacian matrix\n",
    "def laplacian_matrix(W):\n",
    "    D = np.diag(np.sum(W, axis=1))\n",
    "    L = D - W\n",
    "    return L"
   ]
  },
  {
   "cell_type": "code",
   "execution_count": 5,
   "metadata": {},
   "outputs": [],
   "source": [
    "\n",
    "def calculate_eigen_val_and_vec(L):\n",
    "    #calculates eigen values and eigen vectors of given laplacian matrix\n",
    "    eigvals, eigvecs = np.linalg.eig(L)\n",
    "    #sort eigenvalues in ascending order\n",
    "    sorted_indices = np.argsort(eigvals)\n",
    "    sorted_eigenval=eigvals[sorted_indices]\n",
    "    #sort eigen vectors according to sorted eigen values\n",
    "    sorted_eigenvec = eigvecs[:,sorted_indices]\n",
    "    return sorted_eigenval,sorted_eigenvec,sorted_indices"
   ]
  },
  {
   "cell_type": "code",
   "execution_count": 6,
   "metadata": {},
   "outputs": [
    {
     "name": "stdout",
     "output_type": "stream",
     "text": [
      "-0.0\n",
      "-0.0\n",
      "0.0\n",
      "0.00681\n",
      "0.043338\n",
      "0.067835\n"
     ]
    }
   ],
   "source": [
    "sigma=1\n",
    "#obtain gaussian similarity matrix\n",
    "similarity_matrix=gaussian_similarity_matrix(loaded_data, sigma)\n",
    "#obtain laplacian matrix\n",
    "laplacian=laplacian_matrix(similarity_matrix)\n",
    "#calculate eigen values and eigen vectors\n",
    "eigen_values,eigen_vectors,sorted_indices=calculate_eigen_val_and_vec(laplacian)\n",
    "#round up eigen values and eigen vectors\n",
    "#print(sorted_indices[360],sorted_indices[1086])\n",
    "\n",
    "eigen_values = np.round(eigen_values, 6)\n",
    "eigen_vectors = np.round(eigen_vectors, 6)\n",
    "#print(eigen_vectors)\n",
    "for i in range(6):\n",
    "    print(eigen_values[i])"
   ]
  },
  {
   "attachments": {},
   "cell_type": "markdown",
   "metadata": {},
   "source": [
    "**METHODS TO FIND OPTIMAL NUMBER OF CLUSTERS**"
   ]
  },
  {
   "cell_type": "code",
   "execution_count": 7,
   "metadata": {},
   "outputs": [],
   "source": [
    "def clusters_elbow_method(eigen_vectors):\n",
    "    squared_distance_sum = []\n",
    "    K = range(2,11)\n",
    "    for clusters in K :\n",
    "       # fit KMeans model to the data\n",
    "       kmeans = KMeans(n_clusters=clusters)\n",
    "       evec=eigen_vectors[:, 1:clusters]\n",
    "       kmeans.fit(evec)\n",
    "       # calculate the sum of squared distance for the current clustering\n",
    "       squared_distance_sum.append(kmeans.inertia_)\n",
    "       print('#clusters=',clusters,' sum of squared distance=',squared_distance_sum[-1])\n",
    "    plt.plot(K,squared_distance_sum)\n",
    "    plt.xlabel('Values of K') \n",
    "    plt.ylabel('Sum of squared distances') \n",
    "    plt.title('Elbow Method For Optimal K')\n",
    "    plt.show()\n",
    "        "
   ]
  },
  {
   "cell_type": "code",
   "execution_count": 8,
   "metadata": {},
   "outputs": [
    {
     "name": "stderr",
     "output_type": "stream",
     "text": [
      "C:\\Users\\manas\\AppData\\Roaming\\Python\\Python310\\site-packages\\sklearn\\cluster\\_kmeans.py:870: FutureWarning: The default value of `n_init` will change from 10 to 'auto' in 1.4. Set the value of `n_init` explicitly to suppress the warning\n",
      "  warnings.warn(\n"
     ]
    },
    {
     "name": "stdout",
     "output_type": "stream",
     "text": [
      "#clusters= 2  sum of squared distance= 5.0837544585492126e-33\n",
      "#clusters= 3  sum of squared distance= 4.558896230907061e-33\n",
      "#clusters= 4  sum of squared distance= 0.0008360763286446491\n",
      "#clusters= 5  sum of squared distance= 4.188200234309614e-07\n"
     ]
    },
    {
     "name": "stderr",
     "output_type": "stream",
     "text": [
      "C:\\Users\\manas\\AppData\\Roaming\\Python\\Python310\\site-packages\\sklearn\\cluster\\_kmeans.py:870: FutureWarning: The default value of `n_init` will change from 10 to 'auto' in 1.4. Set the value of `n_init` explicitly to suppress the warning\n",
      "  warnings.warn(\n",
      "C:\\Users\\manas\\AppData\\Roaming\\Python\\Python310\\site-packages\\sklearn\\cluster\\_kmeans.py:870: FutureWarning: The default value of `n_init` will change from 10 to 'auto' in 1.4. Set the value of `n_init` explicitly to suppress the warning\n",
      "  warnings.warn(\n",
      "C:\\Users\\manas\\AppData\\Roaming\\Python\\Python310\\site-packages\\sklearn\\cluster\\_kmeans.py:870: FutureWarning: The default value of `n_init` will change from 10 to 'auto' in 1.4. Set the value of `n_init` explicitly to suppress the warning\n",
      "  warnings.warn(\n",
      "C:\\Users\\manas\\AppData\\Roaming\\Python\\Python310\\site-packages\\sklearn\\cluster\\_kmeans.py:870: FutureWarning: The default value of `n_init` will change from 10 to 'auto' in 1.4. Set the value of `n_init` explicitly to suppress the warning\n",
      "  warnings.warn(\n"
     ]
    },
    {
     "name": "stdout",
     "output_type": "stream",
     "text": [
      "#clusters= 6  sum of squared distance= 8.796337437185944e-08\n",
      "#clusters= 7  sum of squared distance= 0.0004015952753948029\n",
      "#clusters= 8  sum of squared distance= 0.045160521925665664\n",
      "#clusters= 9  sum of squared distance= 0.13493637268502198\n"
     ]
    },
    {
     "name": "stderr",
     "output_type": "stream",
     "text": [
      "C:\\Users\\manas\\AppData\\Roaming\\Python\\Python310\\site-packages\\sklearn\\cluster\\_kmeans.py:870: FutureWarning: The default value of `n_init` will change from 10 to 'auto' in 1.4. Set the value of `n_init` explicitly to suppress the warning\n",
      "  warnings.warn(\n",
      "C:\\Users\\manas\\AppData\\Roaming\\Python\\Python310\\site-packages\\sklearn\\cluster\\_kmeans.py:870: FutureWarning: The default value of `n_init` will change from 10 to 'auto' in 1.4. Set the value of `n_init` explicitly to suppress the warning\n",
      "  warnings.warn(\n",
      "C:\\Users\\manas\\AppData\\Roaming\\Python\\Python310\\site-packages\\sklearn\\cluster\\_kmeans.py:870: FutureWarning: The default value of `n_init` will change from 10 to 'auto' in 1.4. Set the value of `n_init` explicitly to suppress the warning\n",
      "  warnings.warn(\n",
      "C:\\Users\\manas\\AppData\\Roaming\\Python\\Python310\\site-packages\\sklearn\\cluster\\_kmeans.py:870: FutureWarning: The default value of `n_init` will change from 10 to 'auto' in 1.4. Set the value of `n_init` explicitly to suppress the warning\n",
      "  warnings.warn(\n"
     ]
    },
    {
     "name": "stdout",
     "output_type": "stream",
     "text": [
      "#clusters= 10  sum of squared distance= 0.12400262195326833\n"
     ]
    },
    {
     "data": {
      "image/png": "[encoded data removed]",
      "text/plain": [
       "<Figure size 432x288 with 1 Axes>"
      ]
     },
     "metadata": {
      "needs_background": "light"
     },
     "output_type": "display_data"
    }
   ],
   "source": [
    "clusters_elbow_method(eigen_vectors)"
   ]
  },
  {
   "attachments": {},
   "cell_type": "markdown",
   "metadata": {},
   "source": [
    "We observe that when number of clusters=3, the sum of squared distances is less. This implies that optimal number of clusters is 3 according to elbow method"
   ]
  },
  {
   "cell_type": "code",
   "execution_count": 9,
   "metadata": {},
   "outputs": [],
   "source": [
    "from sklearn.metrics import silhouette_score\n",
    "\n",
    "def clusters_Silhouette_method(eigen_vectors):\n",
    "   K = range(2, 11)\n",
    "   silhouette_scores = []\n",
    "   for clusters in K:\n",
    "    # fit KMeans model to the data\n",
    "    kmeans = KMeans(n_clusters=clusters)\n",
    "    evec=eigen_vectors[:, 1:clusters]\n",
    "    kmeans.fit(evec)\n",
    "    cluster_labels = kmeans.labels_\n",
    "    # calculate the silhouette score for the current clustering\n",
    "    silhouette_avg = silhouette_score(evec, cluster_labels)\n",
    "    # append the silhouette score to the list\n",
    "    silhouette_scores.append(silhouette_avg)\n",
    "    print('#clusters=',clusters,' Silhouette score=',silhouette_scores[-1])\n",
    "    \n",
    "\n",
    "   # plot the silhouette scores against the number of clusters\n",
    "   plt.plot(K, silhouette_scores)\n",
    "   plt.xlabel('Number of clusters')\n",
    "   plt.ylabel('Silhouette score')\n",
    "   plt.title('Silhouette Method For Optimal K')\n",
    "   plt.show()"
   ]
  },
  {
   "cell_type": "code",
   "execution_count": 10,
   "metadata": {},
   "outputs": [
    {
     "name": "stderr",
     "output_type": "stream",
     "text": [
      "C:\\Users\\manas\\AppData\\Roaming\\Python\\Python310\\site-packages\\sklearn\\cluster\\_kmeans.py:870: FutureWarning: The default value of `n_init` will change from 10 to 'auto' in 1.4. Set the value of `n_init` explicitly to suppress the warning\n",
      "  warnings.warn(\n",
      "C:\\Users\\manas\\AppData\\Roaming\\Python\\Python310\\site-packages\\sklearn\\cluster\\_kmeans.py:870: FutureWarning: The default value of `n_init` will change from 10 to 'auto' in 1.4. Set the value of `n_init` explicitly to suppress the warning\n",
      "  warnings.warn(\n",
      "C:\\Users\\manas\\AppData\\Roaming\\Python\\Python310\\site-packages\\sklearn\\cluster\\_kmeans.py:870: FutureWarning: The default value of `n_init` will change from 10 to 'auto' in 1.4. Set the value of `n_init` explicitly to suppress the warning\n",
      "  warnings.warn(\n"
     ]
    },
    {
     "name": "stdout",
     "output_type": "stream",
     "text": [
      "#clusters= 2  Silhouette score= 0.9991659716430359\n",
      "#clusters= 3  Silhouette score= 0.9983319432860718\n",
      "#clusters= 4  Silhouette score= 0.9973989934143735\n"
     ]
    },
    {
     "name": "stderr",
     "output_type": "stream",
     "text": [
      "C:\\Users\\manas\\AppData\\Roaming\\Python\\Python310\\site-packages\\sklearn\\cluster\\_kmeans.py:870: FutureWarning: The default value of `n_init` will change from 10 to 'auto' in 1.4. Set the value of `n_init` explicitly to suppress the warning\n",
      "  warnings.warn(\n",
      "C:\\Users\\manas\\AppData\\Roaming\\Python\\Python310\\site-packages\\sklearn\\cluster\\_kmeans.py:870: FutureWarning: The default value of `n_init` will change from 10 to 'auto' in 1.4. Set the value of `n_init` explicitly to suppress the warning\n",
      "  warnings.warn(\n",
      "C:\\Users\\manas\\AppData\\Roaming\\Python\\Python310\\site-packages\\sklearn\\cluster\\_kmeans.py:870: FutureWarning: The default value of `n_init` will change from 10 to 'auto' in 1.4. Set the value of `n_init` explicitly to suppress the warning\n",
      "  warnings.warn(\n"
     ]
    },
    {
     "name": "stdout",
     "output_type": "stream",
     "text": [
      "#clusters= 5  Silhouette score= 0.9966123182972415\n",
      "#clusters= 6  Silhouette score= 0.9957964322666064\n",
      "#clusters= 7  Silhouette score= 0.9752738063681311\n"
     ]
    },
    {
     "name": "stderr",
     "output_type": "stream",
     "text": [
      "C:\\Users\\manas\\AppData\\Roaming\\Python\\Python310\\site-packages\\sklearn\\cluster\\_kmeans.py:870: FutureWarning: The default value of `n_init` will change from 10 to 'auto' in 1.4. Set the value of `n_init` explicitly to suppress the warning\n",
      "  warnings.warn(\n",
      "C:\\Users\\manas\\AppData\\Roaming\\Python\\Python310\\site-packages\\sklearn\\cluster\\_kmeans.py:870: FutureWarning: The default value of `n_init` will change from 10 to 'auto' in 1.4. Set the value of `n_init` explicitly to suppress the warning\n",
      "  warnings.warn(\n",
      "C:\\Users\\manas\\AppData\\Roaming\\Python\\Python310\\site-packages\\sklearn\\cluster\\_kmeans.py:870: FutureWarning: The default value of `n_init` will change from 10 to 'auto' in 1.4. Set the value of `n_init` explicitly to suppress the warning\n",
      "  warnings.warn(\n"
     ]
    },
    {
     "name": "stdout",
     "output_type": "stream",
     "text": [
      "#clusters= 8  Silhouette score= 0.7713267443029114\n",
      "#clusters= 9  Silhouette score= 0.7109886578369746\n",
      "#clusters= 10  Silhouette score= 0.7067924745613722\n"
     ]
    },
    {
     "data": {
      "image/png": "[encoded data removed]",
      "text/plain": [
       "<Figure size 432x288 with 1 Axes>"
      ]
     },
     "metadata": {
      "needs_background": "light"
     },
     "output_type": "display_data"
    }
   ],
   "source": [
    "clusters_Silhouette_method(eigen_vectors)"
   ]
  },
  {
   "attachments": {},
   "cell_type": "markdown",
   "metadata": {},
   "source": [
    "We observe that when number of clusters=3, the Silhouette score is more. This implies that optimal number of clusters can be 3 according to Silhouette method."
   ]
  },
  {
   "cell_type": "markdown",
   "metadata": {},
   "source": [
    "**CLUSTERING**"
   ]
  },
  {
   "cell_type": "code",
   "execution_count": 11,
   "metadata": {},
   "outputs": [],
   "source": [
    "def clustering(eigen_vectors,clusters):\n",
    "        #kmeans clustering\n",
    "        evec=eigen_vectors[:, 1:clusters]\n",
    "        kmeans = KMeans(n_clusters=clusters).fit(evec)\n",
    "        #labels\n",
    "        colours=kmeans.labels_\n",
    "        cluster_classes =  [ 0 for eigen_vectors in range(clusters)]\n",
    "        #count number of points in each cluster\n",
    "        for i in range(len(colours)):\n",
    "             cluster_classes[colours[i]] +=1\n",
    "        #print cluster number and number of points in it\n",
    "        for i in range(clusters):\n",
    "            print(f\"Cluster {i}: {cluster_classes[i]}\")\n",
    "        \n",
    "        col=['blue','green','red','cyan','magenta','orange','brown','olive','gray','steelblue','black','orchid','indigo','chocolate']\n",
    "\n",
    "        for i in range(clusters):\n",
    "             st='cluster'+ str(i)\n",
    "             plt.scatter(evec[colours == i, 0], evec[colours == i, 1], s = 100, c = col[i], label = 'Cluster'+str(i))   \n",
    "        #plt.scatter(kmeans.cluster_centers_[:, 0], kmeans.cluster_centers_[:, 1], s = 80, c = 'yellow', label = 'Centroid')   \n",
    "        plt.title('Clusters')  \n",
    "        plt.legend() \n",
    "        plt.show()  \n",
    "        return colours"
   ]
  },
  {
   "cell_type": "code",
   "execution_count": 12,
   "metadata": {},
   "outputs": [
    {
     "name": "stderr",
     "output_type": "stream",
     "text": [
      "C:\\Users\\manas\\AppData\\Roaming\\Python\\Python310\\site-packages\\sklearn\\cluster\\_kmeans.py:870: FutureWarning: The default value of `n_init` will change from 10 to 'auto' in 1.4. Set the value of `n_init` explicitly to suppress the warning\n",
      "  warnings.warn(\n"
     ]
    },
    {
     "name": "stdout",
     "output_type": "stream",
     "text": [
      "Cluster 0: 1197\n",
      "Cluster 1: 1\n",
      "Cluster 2: 1\n"
     ]
    },
    {
     "data": {
      "image/png": "[encoded data removed]",
      "text/plain": [
       "<Figure size 432x288 with 1 Axes>"
      ]
     },
     "metadata": {
      "needs_background": "light"
     },
     "output_type": "display_data"
    }
   ],
   "source": [
    "cluster_labels=clustering(eigen_vectors,3)\n"
   ]
  },
  {
   "attachments": {},
   "cell_type": "markdown",
   "metadata": {},
   "source": [
    "**Outliers**\\\n",
    "We observe that cluster 0 has 1197 points whereas cluster1 and cluster 2 have one point each. Hence, we can consider cluster 2 and cluster 3 as outliers."
   ]
  },
  {
   "cell_type": "code",
   "execution_count": 13,
   "metadata": {},
   "outputs": [
    {
     "name": "stdout",
     "output_type": "stream",
     "text": [
      "Rows corresponding to outliers in sorted data(sorted according to eigen values):\n",
      "Rows corresponding to outliers of cluster 1 :  [591]\n",
      "Rows corresponding to outliers of cluster 2 :  [202]\n",
      "\n",
      "Rows corresponding to outliers in original data:\n",
      "Rows corresponding to outliers of cluster 1 :  [360]\n",
      "Rows corresponding to outliers of cluster 2 :  [1086]\n",
      "\n",
      "Datacorresponding to outliers in original data:\n",
      "Data corresponding to outliers of cluster 1 :  [[ 0.99592505  0.99735545 -0.42788943 -0.43771254  0.          0.82972292\n",
      "  -0.24801104 -0.03261568 -1.06543615  0.39544647]]\n",
      "Data corresponding to outliers of cluster 2 :  [[ 1.          0.98925865  0.40673191  0.41437495  0.          0.39828522\n",
      "   0.99991626 -0.03313532  2.16902174 -0.05438652]]\n"
     ]
    }
   ],
   "source": [
    "cluster1=[i for i in range(len(eigen_values)) if cluster_labels[i]==1 ]\n",
    "cluster2=[i for i in range(len(eigen_values)) if cluster_labels[i]==2 ]\n",
    "print('Rows corresponding to outliers in sorted data(sorted according to eigen values):')\n",
    "print('Rows corresponding to outliers of cluster 1 : ',cluster1)\n",
    "print('Rows corresponding to outliers of cluster 2 : ',cluster2)\n",
    "print()\n",
    "\n",
    "cluster1=[i for i in range(len(eigen_values)) for j in range(len(cluster1)) if sorted_indices[i]==cluster1[j]]\n",
    "cluster2=[i for i in range(len(eigen_values)) for j in range(len(cluster2)) if sorted_indices[i]==cluster1[j]]\n",
    "\n",
    "print('Rows corresponding to outliers in original data:')\n",
    "print('Rows corresponding to outliers of cluster 1 : ',cluster1)\n",
    "print('Rows corresponding to outliers of cluster 2 : ',cluster2)\n",
    "print()\n",
    "\n",
    "print('Datacorresponding to outliers in original data:')\n",
    "print('Data corresponding to outliers of cluster 1 : ',loaded_data[cluster1])\n",
    "print('Data corresponding to outliers of cluster 2 : ',loaded_data[cluster2])\n",
    "\n"
   ]
  }
 ],
 "metadata": {
  "kernelspec": {
   "display_name": "Python 3",
   "language": "python",
   "name": "python3"
  },
  "language_info": {
   "codemirror_mode": {
    "name": "ipython",
    "version": 3
   },
   "file_extension": ".py",
   "mimetype": "text/x-python",
   "name": "python",
   "nbconvert_exporter": "python",
   "pygments_lexer": "ipython3",
   "version": "3.10.6"
  },
  "orig_nbformat": 4
 },
 "nbformat": 4,
 "nbformat_minor": 2
}
